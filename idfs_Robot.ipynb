{
  "nbformat": 4,
  "nbformat_minor": 0,
  "metadata": {
    "colab": {
      "provenance": [],
      "gpuType": "T4",
      "authorship_tag": "ABX9TyOYvc2ADdcQ6usGH842+1VC",
      "include_colab_link": true
    },
    "kernelspec": {
      "name": "python3",
      "display_name": "Python 3"
    },
    "language_info": {
      "name": "python"
    },
    "accelerator": "GPU"
  },
  "cells": [
    {
      "cell_type": "markdown",
      "metadata": {
        "id": "view-in-github",
        "colab_type": "text"
      },
      "source": [
        "<a href=\"https://colab.research.google.com/github/gargDhruv12/AI-Lab/blob/main/idfs_Robot.ipynb\" target=\"_parent\"><img src=\"https://colab.research.google.com/assets/colab-badge.svg\" alt=\"Open In Colab\"/></a>"
      ]
    },
    {
      "cell_type": "code",
      "execution_count": null,
      "metadata": {
        "colab": {
          "base_uri": "https://localhost:8080/"
        },
        "id": "u1KcaCND8-Ah",
        "outputId": "c2af094e-d841-4e69-b8c5-a29a631b5d34"
      },
      "outputs": [
        {
          "output_type": "stream",
          "name": "stdout",
          "text": [
            "Pathfound through idfs =  [(0, 0), (0, 1), (1, 1), (2, 1), (2, 0), (3, 0), (4, 0), (4, 1), (4, 2), (5, 2), (6, 2), (7, 2), (8, 2), (8, 3), (8, 4), (8, 5), (8, 6), (8, 7), (8, 8), (8, 9), (9, 9)]\n"
          ]
        }
      ],
      "source": [
        "import numpy as np\n",
        "import matplotlib.pyplot as plt\n",
        "\n",
        "directions = [[1,0],[-1,0],[0,-1],[0,1]]\n",
        "def isValid(grid,x,y):\n",
        "  if(x >=0 and x< len(grid) and y>=0 and y< len(grid[0]) and grid[x][y]!= 1):\n",
        "    return True\n",
        "  else :\n",
        "    return False\n",
        "\n",
        "def idfs(start,grid,goal) :\n",
        "  def dls(node,depth,path) :\n",
        "    if(node==goal):\n",
        "      return path\n",
        "    if (depth==0):\n",
        "      return None\n",
        "\n",
        "    node_x,node_y = node\n",
        "    for direction in directions:\n",
        "      dx,dy = direction\n",
        "      if (isValid(grid,node_x+dx,node_y+dy)):\n",
        "        next = (node_x+dx,node_y+dy)\n",
        "        if(next not in path):\n",
        "          ans = dls(next,depth-1,path+[next])\n",
        "          if(ans):\n",
        "            return ans\n",
        "    return None\n",
        "\n",
        "  depth=0\n",
        "  while(1):\n",
        "    ans = dls(start,depth,[start])\n",
        "    if(ans):\n",
        "      return ans\n",
        "    depth = depth+1\n",
        "\n",
        "\n",
        "grid = [\n",
        "    [0, 0, 1, 0, 1, 1, 0, 0, 1, 0],\n",
        "    [1, 0, 1, 0, 1, 0, 0, 1, 1, 0],\n",
        "    [0, 0, 0, 0, 0, 0, 1, 0, 0, 0],\n",
        "    [0, 1, 1, 1, 1, 0, 1, 1, 1, 0],\n",
        "    [0, 0, 0, 1, 0, 0, 0, 0, 1, 0],\n",
        "    [1, 1, 0, 1, 1, 1, 1, 0, 1, 0],\n",
        "    [0, 0, 0, 0, 0, 0, 0, 0, 0, 0],\n",
        "    [1, 1, 0, 1, 1, 1, 0, 1, 1, 1],\n",
        "    [0, 0, 0, 0, 0, 0, 0, 0, 0, 0],\n",
        "    [1, 1, 1, 1, 1, 1, 0, 1, 1, 0]\n",
        "]\n",
        "\n",
        "start = (0,0)\n",
        "goal = (9,9)\n",
        "\n",
        "path = idfs(start,grid,goal)\n",
        "print(\"Pathfound through idfs = \",path)"
      ]
    }
  ]
}